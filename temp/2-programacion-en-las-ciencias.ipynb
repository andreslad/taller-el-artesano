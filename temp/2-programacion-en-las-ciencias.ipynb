{
 "cells": [
  {
   "cell_type": "markdown",
   "metadata": {},
   "source": [
    "![taller_python](el-artesano.jpg)"
   ]
  },
  {
   "cell_type": "markdown",
   "metadata": {},
   "source": [
    "# Programar ¿con qué se come?"
   ]
  },
  {
   "cell_type": "markdown",
   "metadata": {},
   "source": [
    "La computadora es una gran gran calculadora que permite hacer cualquier tipo de cuenta de las que necesitemos dentro de la Física (y de la vida también) mientras sepamos cómo decirle a la máquina qué cómputos hacer.\n",
    "\n",
    "La computadora para hacer cuentas tiene que almacenar los números que necesitemos y luego hacer operaciones con ellos. Nuestros valores numéricos se guardan en espacios de memoria, y esos espacios tienen un nombre, un rótulo con el cual los podremos llamar y pedirle a la computadora que los utilice para operar con ellos, los modifique, etc. Ese nombre a cada espacio de memoria se asigna, al menos en Python, con el símbolo = que significa de ahora en más: \"asignación\".\n",
    "\n",
    "Pero no sólamente guardaremos valores numéricos. Además de haber distintos tipos de valores numéricos, como veremos ahora, podemos guardar otros tipos de datos, como texto (strings) y listas (lists) entre muchos otros. Todos los tipos de valores que podremos almacenar difieren entre si el espacio en memoria que ocupan y las operaciones que podremos hacer con ellos.\n",
    "\n",
    "Veamos un par de ejemplos"
   ]
  },
  {
   "cell_type": "code",
   "execution_count": 2,
   "metadata": {
    "collapsed": true
   },
   "outputs": [],
   "source": [
    "x = 5\n",
    "y = 'Hola mundo!'\n",
    "z = [1,2,3]"
   ]
  },
  {
   "cell_type": "markdown",
   "metadata": {},
   "source": [
    "Aquí hemos guardado en un espacio de memoria llamado por nosotros \"x\" la información de un valor de tipo entero, 5, en otro espacio de memoria, que nosotros llamamos \"y\" guardamos el texto \"Hola mundo!\". En Python, las comillas indican que lo que encerramos con ellas es un texto. x no es un texto, así que Python lo tratará como variable para manipular. \"z\" es el nombre del espacio de memoria donde se almacena una lista con 3 elementos enteros.\n",
    "\n",
    "Podemos hacer cosas con esta información. Python es un lenguaje interpretado (a diferencia de otros como Java o C++), eso significa que ni bien nosotros le pedimos algo a Python, éste lo ejecuta. Así es que podremos pedirle por ejemplo que imprima en pantalla el contenido en y, el tipo de valor que es x (entero) entre otras cosas."
   ]
  },
  {
   "cell_type": "code",
   "execution_count": 3,
   "metadata": {
    "collapsed": false
   },
   "outputs": [
    {
     "name": "stdout",
     "output_type": "stream",
     "text": [
      "Hola mundo!\n",
      "<type 'int'>\n",
      "<type 'str'> <type 'list'> 3\n"
     ]
    }
   ],
   "source": [
    "print y\n",
    "print type(x)\n",
    "print type(y), type(z), len(z)"
   ]
  },
  {
   "cell_type": "markdown",
   "metadata": {},
   "source": [
    "Vamos a utilizar mucho la función *type()* para entender con qué tipo de variables estamos trabajando. *type()* es una función predeterminada por Python, y lo que hace es pedir como argumento (lo que va entre los paréntesis) una variable y devuelve inmediatamente el tipo de variable que es."
   ]
  },
  {
   "cell_type": "markdown",
   "metadata": {},
   "source": [
    "### Ejercicio 1\n",
    "\n",
    "En el siguiente bloque cree las variables \"dato1\" y \"dato2\" y guarde en ellas los textos \"estoy programando\" y \"que emocion!\". Con la función *type()* averigue qué tipo de datos se almacena en esas variables."
   ]
  },
  {
   "cell_type": "code",
   "execution_count": 2,
   "metadata": {
    "collapsed": true
   },
   "outputs": [],
   "source": [
    "# Realice el ejercicio 1"
   ]
  },
  {
   "cell_type": "markdown",
   "metadata": {},
   "source": [
    "\n",
    "\n",
    "Para las variables *integers*(enteros) y *floats* (flotantes) podemos hacer las operaciones matemáticas usuales y esperables. Veamos un poco las compatibilidades entre estos tipos de variables."
   ]
  },
  {
   "cell_type": "code",
   "execution_count": 3,
   "metadata": {
    "collapsed": false
   },
   "outputs": [
    {
     "name": "stdout",
     "output_type": "stream",
     "text": [
      "12 12.0 35.0 0 0.714285714286 25.0\n"
     ]
    }
   ],
   "source": [
    "a = 5\n",
    "b = 7\n",
    "c = 5.0\n",
    "d = 7.0\n",
    "print a+b, b+c, a*d, a/b, a/d, c**2"
   ]
  },
  {
   "cell_type": "markdown",
   "metadata": {},
   "source": [
    "### Ejercicio 2\n",
    "\n",
    "Calcule el resultado de $$ \\frac{(2+7.9)^2}{4^{7.4-3.14*9.81}-1} $$ y guárdelo en una variable"
   ]
  },
  {
   "cell_type": "code",
   "execution_count": 4,
   "metadata": {
    "collapsed": false
   },
   "outputs": [],
   "source": [
    "# Realice el ejercicio 2. El resultado esperado es -98.01"
   ]
  },
  {
   "cell_type": "markdown",
   "metadata": {},
   "source": [
    "## Listas"
   ]
  },
  {
   "cell_type": "markdown",
   "metadata": {},
   "source": [
    "Las listas son cadenas de datos de cualquier tipo, unidos por estar en una misma variable, con posiciones dentro de esa lista, con las cuales nosotros podemos llamarlas. En Python, las listas se enumeran desde el 0 en adelante.\n",
    "\n",
    "Estas listas también tienen algunas operaciones que le son válidas.\n",
    "\n",
    "Distintas son las tuplas. Las listas son editables, pero las tuplas no. Esto es importante cuando, a lo largo del desarrollo de un código donde necesitamos que ciertas cosas no cambien, no editemos por error valores fundamentales de nuestro problema a resolver."
   ]
  },
  {
   "cell_type": "code",
   "execution_count": 5,
   "metadata": {
    "collapsed": false
   },
   "outputs": [
    {
     "name": "stdout",
     "output_type": "stream",
     "text": [
      "[1, 2, 'saraza'] <type 'list'>\n",
      "2 <type 'int'>\n",
      "saraza <type 'str'>\n",
      "saraza\n"
     ]
    }
   ],
   "source": [
    "lista1 = [1, 2, 'saraza']\n",
    "print lista1, type(lista1)\n",
    "print lista1[1], type(lista1[1])\n",
    "print lista1[2], type(lista1[2])\n",
    "print lista1[-1]"
   ]
  },
  {
   "cell_type": "code",
   "execution_count": 6,
   "metadata": {
    "collapsed": false
   },
   "outputs": [
    {
     "name": "stdout",
     "output_type": "stream",
     "text": [
      "[2, 3, 4, 5, 6, 7]\n",
      "9\n"
     ]
    }
   ],
   "source": [
    "lista2 = [2,3,4]\n",
    "lista3 = [5,6,7]\n",
    "print lista2+lista3\n",
    "print lista2[2]+lista3[0]"
   ]
  },
  {
   "cell_type": "code",
   "execution_count": 7,
   "metadata": {
    "collapsed": false
   },
   "outputs": [
    {
     "name": "stdout",
     "output_type": "stream",
     "text": [
      "[1, 2, 0]\n",
      "(1, 2, 3)\n"
     ]
    }
   ],
   "source": [
    "tupla1 = (1,2,3)\n",
    "lista4 = [1,2,3]\n",
    "lista4[2] = 0\n",
    "print lista4\n",
    "#tupla1[0] = 0\n",
    "print tupla1"
   ]
  },
  {
   "cell_type": "markdown",
   "metadata": {},
   "source": [
    "Hay formas muy cómodas de hacer listas. Presentamos una que utilizaremos mucho, que es usando la función *range*."
   ]
  },
  {
   "cell_type": "code",
   "execution_count": 8,
   "metadata": {
    "collapsed": false
   },
   "outputs": [
    {
     "name": "stdout",
     "output_type": "stream",
     "text": [
      "[0, 1, 2, 3, 4, 5, 6, 7, 8, 9] <type 'list'>\n"
     ]
    }
   ],
   "source": [
    "listilla = range(10)\n",
    "print listilla, type(listilla)"
   ]
  },
  {
   "cell_type": "markdown",
   "metadata": {},
   "source": [
    "### Ejercicio 3\n",
    "\n",
    "1. Haga una lista con los resultados de los últimos dos ejercicios y que la imprima en pantalla\n",
    "\n",
    "* Sobreescriba en la misma variable la misma lista pero con sus elementos permutados e imprima nuevamente la lista\n",
    "\n",
    "Ejemplo de lo que debería mostrarse en pantalla\n",
    "\n",
    "*['estoy programando', 'que emocion!', -98.01]*\n",
    "\n",
    "*['estoy programando', -98.01, 'que emocion!']*"
   ]
  },
  {
   "cell_type": "code",
   "execution_count": 9,
   "metadata": {
    "collapsed": true
   },
   "outputs": [],
   "source": [
    "# Realice el ejercicio 3"
   ]
  },
  {
   "cell_type": "markdown",
   "metadata": {},
   "source": [
    "### Ejercicio 4\n",
    "\n",
    "1. Haga una lista con la función *range* de 15 elementos y sume los elementos 5, 10 y 12\n",
    "\n",
    "* Con la misma lista, haga el producto de los primeros 4 elementos de esa lista\n",
    "\n",
    "* Con la misma lista, reste el último valor con el primero"
   ]
  },
  {
   "cell_type": "code",
   "execution_count": null,
   "metadata": {
    "collapsed": true
   },
   "outputs": [],
   "source": [
    "# Realice el ejercicio 4"
   ]
  },
  {
   "cell_type": "markdown",
   "metadata": {},
   "source": [
    "## Booleans"
   ]
  },
  {
   "cell_type": "markdown",
   "metadata": {},
   "source": [
    "Este tipo de variable tiene sólo dos valores posibles: 1 y 0, o *True* y *False*. Las utilizaremos escencialmente para que Python reconozca relaciones entre números."
   ]
  },
  {
   "cell_type": "code",
   "execution_count": 10,
   "metadata": {
    "collapsed": false
   },
   "outputs": [
    {
     "name": "stdout",
     "output_type": "stream",
     "text": [
      "True\n",
      "False\n",
      "False\n",
      "True\n",
      "<type 'bool'>\n"
     ]
    }
   ],
   "source": [
    "print 5>4\n",
    "print 4>5\n",
    "print 4==5 #La igualdad matemática se escribe con doble ==\n",
    "print 4!=5 #La desigualdad matemática se escribe con !=\n",
    "print type(4>5)"
   ]
  },
  {
   "cell_type": "markdown",
   "metadata": {},
   "source": [
    "### Ejercicio 5\n",
    "\n",
    "Averigue el resultado de *4!=5==1*. ¿Dónde pondría paréntesis para que el resultado fuera distinto?"
   ]
  },
  {
   "cell_type": "code",
   "execution_count": 15,
   "metadata": {
    "collapsed": false
   },
   "outputs": [],
   "source": [
    "# Realice el ejercicio 5"
   ]
  },
  {
   "cell_type": "markdown",
   "metadata": {},
   "source": [
    "## Control de flujo: condicionales e iteraciones (if y for para los amigos)"
   ]
  },
  {
   "cell_type": "markdown",
   "metadata": {},
   "source": [
    "Si en el fondo un programa es una serie de algoritmos que la computadora debe seguir, un conocimiento fundamental para programar es saber cómo pedirle a una computadora que haga operaciones si se cumple una condición y que haga otras si no se cumple. Nos va a permitir hacer programas mucho más complejos. Veamos entonces como aplicar un *if*."
   ]
  },
  {
   "cell_type": "code",
   "execution_count": 13,
   "metadata": {
    "collapsed": false
   },
   "outputs": [
    {
     "name": "stdout",
     "output_type": "stream",
     "text": [
      "Tu parametro es 5 y es mayor que cero\n",
      "Gracias\n",
      "Vuelva pronto\n",
      " \n"
     ]
    }
   ],
   "source": [
    "parametro = 5\n",
    "if parametro > 0: # un if inaugura un nuevo bloque indentado\n",
    "    print 'Tu parametro es', parametro, 'y es mayor que cero'\n",
    "    print 'Gracias'\n",
    "else:            # el else inaugura otro bloque indentado\n",
    "    print 'Tu parametro es', parametro, 'y es menor o igual que cero'\n",
    "    print 'Gracias'\n",
    "print 'Vuelva pronto'\n",
    "print ' '\n"
   ]
  },
  {
   "cell_type": "code",
   "execution_count": 14,
   "metadata": {
    "collapsed": false
   },
   "outputs": [
    {
     "name": "stdout",
     "output_type": "stream",
     "text": [
      "Tu parametro es -5 y es menor o igual que cero\n",
      "Gracias\n",
      "Vuelva pronto\n",
      " \n"
     ]
    }
   ],
   "source": [
    "parametro = -5\n",
    "if parametro > 0: # un if inaugura un nuevo bloque indentado\n",
    "    print 'Tu parametro es', parametro, 'y es mayor que cero'\n",
    "    print 'Gracias'\n",
    "else:            # el else inaugura otro bloque indentado\n",
    "    print 'Tu parametro es', parametro, 'y es menor o igual que cero'\n",
    "    print 'Gracias'\n",
    "print 'Vuelva pronto'\n",
    "print ' '"
   ]
  },
  {
   "cell_type": "markdown",
   "metadata": {},
   "source": [
    "### Ejercicio 6\n",
    "\n",
    "Haga un programa con un *if* que imprima la suma de dos números si un tercero es positivo, y que imprima la resta si el tercero es negativo."
   ]
  },
  {
   "cell_type": "code",
   "execution_count": null,
   "metadata": {
    "collapsed": true
   },
   "outputs": [],
   "source": [
    "# Realice el ejercicio 6"
   ]
  },
  {
   "cell_type": "markdown",
   "metadata": {},
   "source": [
    "Para que Python repita una misma acción *n* cantidad de veces, utilizaremos la estructura *for*. En cada paso, nosotros podemos aprovechar el \"número de iteración\" como una variable. Eso nos servirá en la mayoría de los casos."
   ]
  },
  {
   "cell_type": "code",
   "execution_count": 21,
   "metadata": {
    "collapsed": false
   },
   "outputs": [
    {
     "name": "stdout",
     "output_type": "stream",
     "text": [
      "nada\n",
      "1\n",
      "2\n",
      "tres\n",
      "cuatro\n",
      "5\n",
      "6\n",
      "7\n",
      "8\n",
      "9\n"
     ]
    }
   ],
   "source": [
    "nueva_lista = ['nada',1,2,'tres', 'cuatro', 7-2, 2*3, 7/1, 2**3, 3**2]\n",
    "for i in range(10):       # i es una variable que inventamos en el for, y que tomará los valores de la \n",
    "    print nueva_lista[i]   #lista que se genere con range(10)"
   ]
  },
  {
   "cell_type": "markdown",
   "metadata": {},
   "source": [
    "### Ejercicio 7\n",
    "\n",
    "1. Haga otra lista con 16 elementos, y haga un programa que con un *for* imprima solo los primeros 7\n",
    "* Modifique el *for* anterior y haga que imprima solo los elementos pares de su lista"
   ]
  },
  {
   "cell_type": "code",
   "execution_count": null,
   "metadata": {
    "collapsed": true
   },
   "outputs": [],
   "source": [
    "# Realice el ejercicio 7"
   ]
  },
  {
   "cell_type": "markdown",
   "metadata": {},
   "source": [
    "La estructura *while* es poco recomendada en Python pero es importante saber que existe: consiste en repetir un paso mientras se cumpla una condición. Es como un *for* mezclado con un *if*."
   ]
  },
  {
   "cell_type": "code",
   "execution_count": 22,
   "metadata": {
    "collapsed": false
   },
   "outputs": [
    {
     "name": "stdout",
     "output_type": "stream",
     "text": [
      "2\n",
      "3\n",
      "4\n",
      "5\n",
      "6\n",
      "7\n",
      "8\n",
      "9\n",
      "10\n"
     ]
    }
   ],
   "source": [
    "i = 1\n",
    "while i < 10: # tener cuidado con los while que se cumplen siempre. Eso daría lugar a los loops infinitos.\n",
    "    i = i+1\n",
    "    print i"
   ]
  },
  {
   "cell_type": "markdown",
   "metadata": {},
   "source": [
    "### Ejercicio 8\n",
    "\n",
    "1. Hacer una función que calcule el factorial de N, siendo N la única variable que recibe la función (Se puede pensar usando *for* o usando *while*).\n",
    "* Hacer una función que calcule la sumatoria de los elementos de una lista."
   ]
  },
  {
   "cell_type": "code",
   "execution_count": null,
   "metadata": {
    "collapsed": true
   },
   "outputs": [],
   "source": [
    "# Realice el ejercicio 8"
   ]
  },
  {
   "cell_type": "markdown",
   "metadata": {},
   "source": [
    "## Funciones"
   ]
  },
  {
   "cell_type": "markdown",
   "metadata": {},
   "source": [
    "Pero si queremos definir nuestra propia manera de calcular algo, o si queremos agrupar una serie de órdenes bajo un mismo nombre, podemos definirnos nuestras propias funciones, pidiendo la cantidad de argumentos que querramos.\n",
    "\n",
    "Vamos a usar las funciones *lambda* más que nada para funciones matemáticas, aunque también tenga otros usos. Definamos el polinomio $f(x) = x^2 - 5x + 6$ que tiene como raíces $x = 3$ y $x = 2$."
   ]
  },
  {
   "cell_type": "code",
   "execution_count": 16,
   "metadata": {
    "collapsed": false
   },
   "outputs": [
    {
     "name": "stdout",
     "output_type": "stream",
     "text": [
      "0 0 6\n"
     ]
    }
   ],
   "source": [
    "f = lambda x: x**2 - 5*x + 6\n",
    "print f(3), f(2), f(0)"
   ]
  },
  {
   "cell_type": "markdown",
   "metadata": {},
   "source": [
    "Las otras funciones, las más generales, se las llama funciones *def*, y tienen la siguiente forma."
   ]
  },
  {
   "cell_type": "code",
   "execution_count": 17,
   "metadata": {
    "collapsed": false
   },
   "outputs": [
    {
     "name": "stdout",
     "output_type": "stream",
     "text": [
      "5.66666666667\n"
     ]
    }
   ],
   "source": [
    "def promedio(a,b,c):\n",
    "    N = a + b + c # Es importante que toda la función tenga su contenido indentado\n",
    "    N = N/3.0\n",
    "    return N\n",
    "mipromedio = promedio(5,5,7) # Aquí rompimos la indentación\n",
    "print mipromedio"
   ]
  },
  {
   "cell_type": "markdown",
   "metadata": {},
   "source": [
    "### Ejercicio 9\n",
    "\n",
    "Hacer una función que calcule el promedio de $n$ elementos dados en una lista.\n",
    "\n",
    "**Sugerencia**: utilizar las funciones *len()* y *sum()* como auxiliares."
   ]
  },
  {
   "cell_type": "code",
   "execution_count": 18,
   "metadata": {
    "collapsed": true
   },
   "outputs": [],
   "source": [
    "# Realice el ejercicio 9"
   ]
  },
  {
   "cell_type": "markdown",
   "metadata": {},
   "source": [
    "### Ejercicio 10\n",
    "\n",
    "Usando lo que ya sabemos de funciones matemáticas y las bifurcaciones que puede generar un *if*, hacer una función que reciba los coeficientes $a, b, c$ de la parábola $f(x) = ax^2 + bx + c$ y calcule las raíces *si* son reales (es decir, usando el discriminante $\\Delta = b^2 - 4ac$ como criterio), y sino que imprima en pantalla una advertencia de que el cálculo no se puede hacer en $\\mathbb{R}$.\n",
    "\n",
    "### Bonus track 1\n",
    "\n",
    "Modificar la función anterior para que calcule las raíces de todos modos, aunque sean complejas."
   ]
  },
  {
   "cell_type": "code",
   "execution_count": 24,
   "metadata": {
    "collapsed": false
   },
   "outputs": [],
   "source": [
    "# Realice el ejercicio 10"
   ]
  },
  {
   "cell_type": "markdown",
   "metadata": {},
   "source": [
    "### Ejercicio 11\n",
    "\n",
    "1. Hacer una función que calcule el factorial de N, siendo N la única variable que recibe la función (Se puede pensar usando *for* o usando *while*).\n",
    "* Hacer una función que calcule la sumatoria de los elementos de una lista."
   ]
  },
  {
   "cell_type": "code",
   "execution_count": null,
   "metadata": {
    "collapsed": true
   },
   "outputs": [],
   "source": [
    "# Realice el ejercicio 11"
   ]
  },
  {
   "cell_type": "markdown",
   "metadata": {},
   "source": [
    "## Bibliotecas"
   ]
  },
  {
   "cell_type": "markdown",
   "metadata": {},
   "source": [
    "Pero las operaciones básicas de suma, resta, multiplicación y división son todo lo que un lenguaje como Python puede hacer \"nativamente\". Una potencia o un seno es álgebra no lineal, y para hacerlo, habría que inventarse un algoritmo (una serie de pasos) para calcular por ejemplo *sen($\\pi$)*. Pero alguien ya lo hizo, ya lo pensó, ya lo escribió en lenguaje Python y ahora todos podemos usar ese algoritmo sin pensar en él. Solamente hay que decirle a nuestro intérprete de Python dónde está guardado ese algoritmo. **Esta posibilidad de usar algoritmos de otros es fundamental en la programación, porque es lo que permite que nuestro problema se limite solamente a entender cómo llamar a estos algoritmos ya pensados y no tener que pensarlos cada vez**.\n",
    "\n",
    "Vamos entonces a llamar a una *biblioteca* llamada *math* que nos va a extender nuestras posibilididades matemáticas."
   ]
  },
  {
   "cell_type": "code",
   "execution_count": 14,
   "metadata": {
    "collapsed": false
   },
   "outputs": [
    {
     "name": "stdout",
     "output_type": "stream",
     "text": [
      "16.0 -1.0 2.0 1.0\n"
     ]
    }
   ],
   "source": [
    "import math # Llamamos a una biblioteca\n",
    "#Es usual usar math, en vez de m\n",
    "r1 = math.pow(2,4)\n",
    "r2 = math.cos(m.pi)\n",
    "r3 = math.log(100,10)\n",
    "r4 = math.log(m.e)\n",
    "print r1, r2, r3, r4"
   ]
  },
  {
   "cell_type": "markdown",
   "metadata": {},
   "source": [
    "Para entender cómo funcionan estas funciones, es importante recurrir a su *documentation*. La de esta biblioteca en particular se encuentra en\n",
    "\n",
    "https://docs.python.org/2/library/math.html"
   ]
  },
  {
   "cell_type": "markdown",
   "metadata": {},
   "source": [
    "### Ejercicio 12\n",
    "\n",
    "Use Python como calculadora y halle los resultados de\n",
    "\n",
    "1. $\\log(\\cos(2\\pi))$\n",
    "*  $\\text{atanh}(2^{\\cos(e)} -1) $\n",
    "*  $\\sqrt{x^2+2x+1}$ con $x = 125$\n",
    "\n"
   ]
  },
  {
   "cell_type": "code",
   "execution_count": 15,
   "metadata": {
    "collapsed": true
   },
   "outputs": [],
   "source": [
    "# Realice el ejercicio 12"
   ]
  },
  {
   "cell_type": "markdown",
   "metadata": {},
   "source": [
    "### Bonus track 2\n",
    "\n",
    "Ahora que nos animamos a buscar nuevas bibliotecas y definir funciones, buscar la función *newton()* de la biblioteca **scipy.optimize** para hallar $x$ tal que se cumpla la siguiente ecuación no lineal $$\\frac{1}{x} = ln(x)$$"
   ]
  },
  {
   "cell_type": "markdown",
   "metadata": {},
   "source": [
    "## Gráficos"
   ]
  },
  {
   "cell_type": "markdown",
   "metadata": {},
   "source": [
    "Lo siguiente que Python tiene de interesante para usar son sus facilidades para hacer gráficos. La biblioteca **matplotlib** nos ayudará en este caso. También utilizaremos una biblioteca llamada **numpy** por sus enormes ventajas para el cálculo numérico, motivo de nuestro próximo taller. Primero, definimos un vector que nos hace de dominio, luego, un vector imagen de alguna función, y luego haremos el gráfico. Se muestran aquí algunas de las opciones que tiene matplotlib para presentar un gráfico, pero yendo a la documentación podrán encontrar infinidad de herramientas para hacer esto."
   ]
  },
  {
   "cell_type": "code",
   "execution_count": 25,
   "metadata": {
    "collapsed": false
   },
   "outputs": [
    {
     "data": {
      "image/png": "[encoded data removed]",
      "text/plain": [
       "<matplotlib.figure.Figure at 0x3ffd050>"
      ]
     },
     "metadata": {},
     "output_type": "display_data"
    }
   ],
   "source": [
    "from matplotlib import pyplot as plt\n",
    "import numpy as np\n",
    "%matplotlib pyplot\n",
    "\n",
    "x = np.linspace(-10, 10, 200) # con la función linspace generaremos un vector con componentes equidistantes.\n",
    "y = x**2 # el vector imagen será igual de largo que x\n",
    "plt.plot(x,y, '-', color = 'red', label = 'Curva x**2') # ver qué pasa con 'r', 'g', '*' entre otros\n",
    "plt.title('Mi primer ploteo')\n",
    "plt.xlabel('Eje de las x')\n",
    "plt.ylabel('Eje de las y')\n",
    "#plt.xlim(-5,5)\n",
    "#plt.ylim(0,4)\n",
    "plt.legend(loc = 'best')\n",
    "grid(True)\n",
    "\n"
   ]
  },
  {
   "cell_type": "markdown",
   "metadata": {},
   "source": [
    "### Ejercicio 13\n",
    "\n",
    "Hallar de manera gráfica la $x$ que resuelve la ecuación del primer bonus track. Recordamos la ecuación. $$ \\frac{1}{x}=ln(x)$$"
   ]
  },
  {
   "cell_type": "code",
   "execution_count": 26,
   "metadata": {
    "collapsed": true
   },
   "outputs": [],
   "source": [
    "# Bloque para el ejercicio 13"
   ]
  },
  {
   "cell_type": "markdown",
   "metadata": {},
   "source": [
    "# La importancia de las referencias"
   ]
  },
  {
   "cell_type": "markdown",
   "metadata": {},
   "source": [
    "Para más referencias pueden googlear. Dejamos algunas de referencia:\n",
    "\n",
    "http://pybonacci.org/2012/06/07/algebra-lineal-en-python-con-numpy-i-operaciones-basicas/\n",
    "\n",
    "http://relopezbriega.github.io/blog/2015/06/14/algebra-lineal-con-python/\n",
    "\n",
    "http://pendientedemigracion.ucm.es/info/aocg/python/modulos_cientificos/numpy/index.html\n",
    "\n",
    "Pero es importantísimo manejarse con la documentación de las bibliotecas que se utilizan\n",
    "\n",
    "https://docs.python.org/2/library/math.html\n",
    "\n",
    "http://docs.scipy.org/doc/numpy/reference/routines.linalg.html\n",
    "\n",
    "http://matplotlib.org/api/pyplot_api.html"
   ]
  },
  {
   "cell_type": "markdown",
   "metadata": {},
   "source": [
    "# Recursos\n",
    "\n",
    "Para seguir profundizando con la programación en Python, ofrecemos distintos recursos\n",
    "\n",
    "Un tutorial: http://www.learnpython.org/\n",
    "\n",
    "*How to think like a computer scientist* (aprendizaje interactivo): http://interactivepython.org/runestone/static/thinkcspy/index.html\n",
    "\n",
    "Otro tutorial, en inglés, pero muy completo: http://learnpythonthehardway.org/book\n",
    "\n",
    "Coursera, que nunca está de más: https://www.coursera.org/learn/interactive-python-1\n",
    "\n",
    "Otro más: https://es.coursera.org/learn/python\n",
    "\n",
    "Y por fuera del taller, seguimos en contacto. Tenemos un grupo de Facebook donde pueden hacerse consultas y otros chicos que fueron al taller antes o aprendieron por sus medios podrán responderles. El grupo es https://www.facebook.com/groups/303815376436624/?fref=ts\n",
    "\n",
    "\n"
   ]
  },
  {
   "cell_type": "markdown",
   "metadata": {
    "collapsed": true
   },
   "source": [
    "# Y para seguir manijeando\n",
    "\n",
    "Tenemos otro taller dentro de una semana donde profundizaremos el uso de algunas herramientas clave para el análisis de datos de Laboratorio. ¡No te lo podés perder!\n",
    "\n",
    "A parte, en nuestro Github (https://github.com/fifabsas/talleresfifabsas) iremos colgando nuevo material para ejemplificar, con problemas de las materias de Física resueltos numéricamente, herramientas de Labo y mucho más."
   ]
  },
  {
   "cell_type": "markdown",
   "metadata": {
    "collapsed": true
   },
   "source": [
    "# Agradecimientos\n",
    "\n",
    "Todo esto es posible gracias al aporte de mucha gente.\n",
    "\n",
    "* Gente muy copada del DF como Hernán Grecco, Guillermo Frank, Osvaldo Santillán , Martín Elías Costa y Agustín Corbat por hacer aportes a estos talleres de diferentes maneras, desde poner su apellido para que nos presten un labo hasta venir como invitado a un taller.\n",
    "* El Departamento de Computación que cuatrimestre a cuatrimestre nos presta los labos desinteresadamente.\n",
    "* Los estudiantes del CODEP de Física, el CECEN y mucha gente que ayuda con la difusión.\n",
    "* Pibes de la FIFA que prestan su tiempo a organizar el material y llevan a cabo el taller.\n",
    "* Todos los que se acercan y piden que estos talleres se sigan dando y nos siguen llenando los Labos. Sí ¡Gracias a todos ustedes!\n",
    "\n"
   ]
  }
 ],
 "metadata": {
  "anaconda-cloud": {},
  "kernelspec": {
   "display_name": "Python 2",
   "language": "python",
   "name": "python2"
  },
  "language_info": {
   "codemirror_mode": {
    "name": "ipython",
    "version": 2
   },
   "file_extension": ".py",
   "mimetype": "text/x-python",
   "name": "python",
   "nbconvert_exporter": "python",
   "pygments_lexer": "ipython2",
   "version": "2.7.5"
  }
 },
 "nbformat": 4,
 "nbformat_minor": 0
}
